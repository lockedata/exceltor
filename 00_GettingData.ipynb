{
 "cells": [
  {
   "cell_type": "markdown",
   "metadata": {
    "collapsed": true
   },
   "source": [
    "# Getting data in and out of R\n",
    "Doing stuff in R means we need data actually in R. Since we probably won't be able to do everything in R, we then need to be able to get stuff back out again! This notebook looks at how we can get data in and out of R in some common formats."
   ]
  },
  {
   "cell_type": "markdown",
   "metadata": {},
   "source": [
    "## Making functionality available\n",
    "The first thing we need to do with R to be able to read stuff in and out is tell R where this functionality resides. Functionality (and datasets too!) are kept in packages. Packages are available publicly via CRAN, on gitHub where they're in dev, or other sources like internal packages.\n",
    "\n",
    "To install a package from CRAN we can use the built-in function `install.packages()`, but other sources will be helped by first installing a package called `devtools` (easy to do but not in scope for today). \n",
    "\n",
    "We're going to install some packages including:\n",
    "- `tidyverse` which contains lots of useful stuff!\n",
    "- `readxl` for reading Excel datasets\n",
    "- `writexl` for exporting data to Excel\n",
    "\n",
    "Instead of running `install.packages()` for each of these, we can use the `c()` function to make them into a type of list that `install.packages()` will recognise and work on."
   ]
  },
  {
   "cell_type": "code",
   "execution_count": 18,
   "metadata": {},
   "outputs": [
    {
     "name": "stderr",
     "output_type": "stream",
     "text": [
      "Installing packages into ‘/home/nbuser/R’\n",
      "(as ‘lib’ is unspecified)\n",
      "Warning message:\n",
      "“package ‘readx’ is not available (for R version 3.4.1)”"
     ]
    }
   ],
   "source": [
    "install.packages(c(\"tidyverse\", \"readx\", \"writexl\"))"
   ]
  },
  {
   "cell_type": "markdown",
   "metadata": {},
   "source": [
    "> Uh ho! I made a typo can you edit the code above (double click), fix the typo, then re-run the code using the Run button?"
   ]
  },
  {
   "cell_type": "markdown",
   "metadata": {},
   "source": [
    "## Working with \"nice\" data\n",
    "Usually if someone provides a CSV we're pretty thankful -- no formatting denoting data, not extra bits and pieces, just pure (hopefully) clean data to work with.\n",
    "\n",
    "If we make the `tidyverse` available to our R code, it'll give us a `read_csv()` function for loading CSVs into R. We need to give the data we loaded a name, otherwise R will just print the data out and not bother remembering it."
   ]
  },
  {
   "cell_type": "code",
   "execution_count": 2,
   "metadata": {},
   "outputs": [
    {
     "name": "stderr",
     "output_type": "stream",
     "text": [
      "── Attaching packages ─────────────────────────────────────── tidyverse 1.2.1 ──\n",
      "✔ ggplot2 2.2.1     ✔ purrr   0.2.4\n",
      "✔ tibble  1.4.1     ✔ dplyr   0.7.4\n",
      "✔ tidyr   0.7.2     ✔ stringr 1.3.1\n",
      "✔ readr   1.1.1     ✔ forcats 0.2.0\n",
      "── Conflicts ────────────────────────────────────────── tidyverse_conflicts() ──\n",
      "✖ dplyr::filter() masks stats::filter()\n",
      "✖ dplyr::lag()    masks stats::lag()\n",
      "Warning message:\n",
      "“Missing column names filled in: 'X1' [1]”Parsed with column specification:\n",
      "cols(\n",
      "  X1 = col_integer(),\n",
      "  name = col_character(),\n",
      "  Gender = col_character(),\n",
      "  `Eye color` = col_character(),\n",
      "  Race = col_character(),\n",
      "  `Hair color` = col_character(),\n",
      "  Height = col_double(),\n",
      "  Publisher = col_character(),\n",
      "  `Skin color` = col_character(),\n",
      "  Alignment = col_character(),\n",
      "  Weight = col_double()\n",
      ")\n"
     ]
    }
   ],
   "source": [
    "library(tidyverse, quietly=TRUE)\n",
    "heroes = read_csv(\"data/heroes_information.csv\")"
   ]
  },
  {
   "cell_type": "markdown",
   "metadata": {},
   "source": [
    "We're able to do all sorts of snazzy things with this `read_csv()` function like making suring the data types are what we expect, adding nice new headers, handling weird values for missing data and more. Very handily, when we first run a `read_csv()` command it tells us what the column names and data types will be as a *message* in the console. These sorts of things can show up in red text and look pretty scary but this in particular is just a heads up."
   ]
  },
  {
   "cell_type": "markdown",
   "metadata": {},
   "source": [
    "> Can you write a `read_csv()` line that'll import the `super_hero_powers.csv` from the `data/` directory?"
   ]
  },
  {
   "cell_type": "code",
   "execution_count": 3,
   "metadata": {},
   "outputs": [],
   "source": [
    "# Insert your read_csv() code under this line and don't forget to give it a name!"
   ]
  },
  {
   "cell_type": "markdown",
   "metadata": {},
   "source": [
    "## Working with Excel data\n",
    "Assuming the data isn't too yucky, the `readxl` package is super easy to use. It uses a function very similar `read_csv()`, and that's `read_excel()`. Learning one makes it easy to learn the other. As well as using it simply where it works on the default tab, you can specifiy sheets, ranges and all sort of stuff to extract data. Here I'm going to use the `skip` to avoid any problems reading the title and stuff."
   ]
  },
  {
   "cell_type": "code",
   "execution_count": 4,
   "metadata": {},
   "outputs": [],
   "source": [
    "library(readxl)\n",
    "heroes = read_excel(\"data/heroes_information.xlsx\", skip = 2)"
   ]
  },
  {
   "cell_type": "markdown",
   "metadata": {},
   "source": [
    "Someone left a filter on the Excel spreadsheet. Let's see if that filter was maintained when we loaded the data. I can see it was on the `Alignment` column so we should see if we can get a list of unique values present in that column in our `heroes` dataset. We can tell R to we're talking about a specific column by using the format `[tablename]$[Column]`"
   ]
  },
  {
   "cell_type": "code",
   "execution_count": 5,
   "metadata": {},
   "outputs": [
    {
     "data": {
      "text/html": [
       "<ol class=list-inline>\n",
       "\t<li>'good'</li>\n",
       "\t<li>'bad'</li>\n",
       "\t<li>'-'</li>\n",
       "\t<li>'neutral'</li>\n",
       "</ol>\n"
      ],
      "text/latex": [
       "\\begin{enumerate*}\n",
       "\\item 'good'\n",
       "\\item 'bad'\n",
       "\\item '-'\n",
       "\\item 'neutral'\n",
       "\\end{enumerate*}\n"
      ],
      "text/markdown": [
       "1. 'good'\n",
       "2. 'bad'\n",
       "3. '-'\n",
       "4. 'neutral'\n",
       "\n",
       "\n"
      ],
      "text/plain": [
       "[1] \"good\"    \"bad\"     \"-\"       \"neutral\""
      ]
     },
     "metadata": {},
     "output_type": "display_data"
    }
   ],
   "source": [
    "unique(heroes$Alignment)"
   ]
  },
  {
   "cell_type": "markdown",
   "metadata": {},
   "source": [
    "Phew, it found all the values so our spreadsheet reads are safe from pesky filters! Let's look at our data a bit more, using the `summary()` function as a quick start."
   ]
  },
  {
   "cell_type": "code",
   "execution_count": 6,
   "metadata": {},
   "outputs": [
    {
     "data": {
      "text/plain": [
       "       ID            name              Gender           Eye color        \n",
       " Min.   :  0.0   Length:734         Length:734         Length:734        \n",
       " 1st Qu.:183.2   Class :character   Class :character   Class :character  \n",
       " Median :366.5   Mode  :character   Mode  :character   Mode  :character  \n",
       " Mean   :366.5                                                           \n",
       " 3rd Qu.:549.8                                                           \n",
       " Max.   :733.0                                                           \n",
       "                                                                         \n",
       "     Race            Hair color            Height       Publisher        \n",
       " Length:734         Length:734         Min.   :-99.0   Length:734        \n",
       " Class :character   Class :character   1st Qu.:-99.0   Class :character  \n",
       " Mode  :character   Mode  :character   Median :175.0   Mode  :character  \n",
       "                                       Mean   :102.3                     \n",
       "                                       3rd Qu.:185.0                     \n",
       "                                       Max.   :975.0                     \n",
       "                                                                         \n",
       "  Skin color         Alignment             Weight      \n",
       " Length:734         Length:734         Min.   :-99.00  \n",
       " Class :character   Class :character   1st Qu.:-99.00  \n",
       " Mode  :character   Mode  :character   Median : 62.00  \n",
       "                                       Mean   : 43.86  \n",
       "                                       3rd Qu.: 90.00  \n",
       "                                       Max.   :900.00  \n",
       "                                       NA's   :2       "
      ]
     },
     "metadata": {},
     "output_type": "display_data"
    }
   ],
   "source": [
    "summary(heroes)"
   ]
  },
  {
   "cell_type": "markdown",
   "metadata": {},
   "source": [
    "> Huh, we have NA (missing) and -99 for missings! Typical. Can you use the `na` argument to the `read_excel()` command to include -99 as a missing value?"
   ]
  },
  {
   "cell_type": "markdown",
   "metadata": {},
   "source": [
    "## Other data sources\n",
    "R is amazing at talking to so many things! We can work with Google Sheets, databases, APIs, web scraping, and even pry data from the horrible PDFs some people insist counts as \"publishing data\". Here are some links for next steps when it comes time to work different sources:\n",
    "\n",
    "- [googlesheets docs](https://github.com/jennybc/googlesheets/blob/master/vignettes/basic-usage.md)\n",
    "- [a great webscraping demo](https://masalmon.eu/2018/06/18/mathtree/)\n",
    "- [a nifty pdf scraping demo](http://www.brodrigues.co/blog/2018-06-10-scraping_pdfs/)"
   ]
  },
  {
   "cell_type": "markdown",
   "metadata": {},
   "source": [
    "## Exporting data to CSV\n",
    "The `write_csv()` function from the `readr` package which we loaded when we ran `library(tidyverse)`. Like the `read_csv()` function it has some optional arguments you can use to tweak the export."
   ]
  },
  {
   "cell_type": "code",
   "execution_count": 14,
   "metadata": {},
   "outputs": [],
   "source": [
    "dir.create(\"outputs\", showWarnings = FALSE) # this stops it from making red text if the directory already exists\n",
    "write_csv(heroes, \"outputs/heroes_information.csv\")"
   ]
  },
  {
   "cell_type": "markdown",
   "metadata": {},
   "source": [
    "## Exporting data to Excel\n",
    "We've installed the `writexl` package to do simple exports to Excel. \n",
    "\n",
    "If you want more control over look and feel, checkout the `openxlsx` package. If that isn't good enough you probably need the `XLConnect` package. This uses Java and makes kittens cry so pretty please, try to do things another way!"
   ]
  },
  {
   "cell_type": "code",
   "execution_count": 17,
   "metadata": {},
   "outputs": [],
   "source": [
    "library(writexl)\n",
    "write_xlsx(heroes, \"outputs/heroes_information.xlsx\")"
   ]
  }
 ],
 "metadata": {
  "kernelspec": {
   "display_name": "R",
   "language": "R",
   "name": "r"
  },
  "language_info": {
   "codemirror_mode": "r",
   "file_extension": ".r",
   "mimetype": "text/x-r-source",
   "name": "R",
   "pygments_lexer": "r",
   "version": "3.4.1"
  }
 },
 "nbformat": 4,
 "nbformat_minor": 2
}

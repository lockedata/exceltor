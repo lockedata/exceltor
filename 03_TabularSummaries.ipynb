{
 "cells": [
  {
   "cell_type": "markdown",
   "metadata": {
    "collapsed": true
   },
   "source": [
    "# Summarising data\n",
    "Once we've cleaned up our data it's time to start summarising it!\n",
    "\n",
    "This can get pretty complicated so we have something called a data pipeline to make it really clear how we're doing our transformations and summaries. These pipelines take the previous line as the first input for the current line meaning no nested formulae."
   ]
  },
  {
   "cell_type": "code",
   "execution_count": 3,
   "metadata": {},
   "outputs": [
    {
     "name": "stderr",
     "output_type": "stream",
     "text": [
      "Installing package into ‘/home/nbuser/R’\n",
      "(as ‘lib’ is unspecified)\n",
      "Parsed with column specification:\n",
      "cols(\n",
      "  X1 = col_integer(),\n",
      "  name = col_character(),\n",
      "  Gender = col_character(),\n",
      "  `Eye color` = col_character(),\n",
      "  Race = col_character(),\n",
      "  `Hair color` = col_character(),\n",
      "  Height = col_double(),\n",
      "  Publisher = col_character(),\n",
      "  `Skin color` = col_character(),\n",
      "  Alignment = col_character(),\n",
      "  Weight = col_integer()\n",
      ")\n",
      "Parsed with column specification:\n",
      "cols(\n",
      "  hero_names = col_character(),\n",
      "  power = col_character(),\n",
      "  present = col_logical()\n",
      ")\n"
     ]
    }
   ],
   "source": [
    "install.packages(\"tidyverse\")\n",
    "library(tidyverse)\n",
    "heroes = read_csv(\"clean/heroes.csv\")\n",
    "powers = read_csv(\"clean/powers_long.csv\")"
   ]
  },
  {
   "cell_type": "markdown",
   "metadata": {},
   "source": [
    "A pipeline uses the operator `%>%` between lines to denote the pipeline. So if I want to perform a `summarise_all()` action to return the number of unique values in each column with the `n_distinct()` function for my `heroes` data I could structure it this way:"
   ]
  },
  {
   "cell_type": "code",
   "execution_count": 17,
   "metadata": {},
   "outputs": [
    {
     "data": {
      "text/html": [
       "<table>\n",
       "<thead><tr><th scope=col>X1</th><th scope=col>name</th><th scope=col>Gender</th><th scope=col>Eye color</th><th scope=col>Race</th><th scope=col>Hair color</th><th scope=col>Height</th><th scope=col>Publisher</th><th scope=col>Skin color</th><th scope=col>Alignment</th><th scope=col>Weight</th></tr></thead>\n",
       "<tbody>\n",
       "\t<tr><td>734</td><td>715</td><td>3  </td><td>23 </td><td>62 </td><td>30 </td><td>54 </td><td>25 </td><td>17 </td><td>4  </td><td>135</td></tr>\n",
       "</tbody>\n",
       "</table>\n"
      ],
      "text/latex": [
       "\\begin{tabular}{r|lllllllllll}\n",
       " X1 & name & Gender & Eye color & Race & Hair color & Height & Publisher & Skin color & Alignment & Weight\\\\\n",
       "\\hline\n",
       "\t 734 & 715 & 3   & 23  & 62  & 30  & 54  & 25  & 17  & 4   & 135\\\\\n",
       "\\end{tabular}\n"
      ],
      "text/markdown": [
       "\n",
       "X1 | name | Gender | Eye color | Race | Hair color | Height | Publisher | Skin color | Alignment | Weight | \n",
       "|---|\n",
       "| 734 | 715 | 3   | 23  | 62  | 30  | 54  | 25  | 17  | 4   | 135 | \n",
       "\n",
       "\n"
      ],
      "text/plain": [
       "  X1  name Gender Eye color Race Hair color Height Publisher Skin color\n",
       "1 734 715  3      23        62   30         54     25        17        \n",
       "  Alignment Weight\n",
       "1 4         135   "
      ]
     },
     "metadata": {},
     "output_type": "display_data"
    }
   ],
   "source": [
    "heroes %>%\n",
    "  summarise_all(n_distinct)"
   ]
  },
  {
   "cell_type": "markdown",
   "metadata": {},
   "source": [
    "This is useful as we get more complicated summaries. Let's say we wanted to know the average weight of all \"Good\" heroes. We would need a `filter()` for determining the good heroes, and a `summary()` to do the average weight."
   ]
  },
  {
   "cell_type": "code",
   "execution_count": 11,
   "metadata": {},
   "outputs": [
    {
     "data": {
      "text/html": [
       "<table>\n",
       "<thead><tr><th scope=col>avgWeight</th></tr></thead>\n",
       "<tbody>\n",
       "\t<tr><td>95.54655</td></tr>\n",
       "</tbody>\n",
       "</table>\n"
      ],
      "text/latex": [
       "\\begin{tabular}{r|l}\n",
       " avgWeight\\\\\n",
       "\\hline\n",
       "\t 95.54655\\\\\n",
       "\\end{tabular}\n"
      ],
      "text/markdown": [
       "\n",
       "avgWeight | \n",
       "|---|\n",
       "| 95.54655 | \n",
       "\n",
       "\n"
      ],
      "text/plain": [
       "  avgWeight\n",
       "1 95.54655 "
      ]
     },
     "metadata": {},
     "output_type": "display_data"
    }
   ],
   "source": [
    "heroes %>%\n",
    "  filter(Alignment == \"good\") %>%\n",
    "  summarise(avgWeight = mean(Weight, na.rm=TRUE))\n",
    "# na.rm stops missing values from mucking up the calculation!"
   ]
  },
  {
   "cell_type": "markdown",
   "metadata": {},
   "source": [
    "What if we wanted to summarise multiple values by alignment? We can use the `group_by()` function to allow us to perform a `summarise()` type actions within groups. Let's see how we can could get some key statistics for every numeric column."
   ]
  },
  {
   "cell_type": "code",
   "execution_count": 15,
   "metadata": {},
   "outputs": [
    {
     "data": {
      "text/html": [
       "<table>\n",
       "<thead><tr><th scope=col>Alignment</th><th scope=col>X1_min</th><th scope=col>Height_min</th><th scope=col>Weight_min</th><th scope=col>X1_max</th><th scope=col>Height_max</th><th scope=col>Weight_max</th><th scope=col>X1_mean</th><th scope=col>Height_mean</th><th scope=col>Weight_mean</th></tr></thead>\n",
       "<tbody>\n",
       "\t<tr><td>-        </td><td>33       </td><td>183.0    </td><td>81       </td><td>692      </td><td>229      </td><td>358      </td><td>372.8571 </td><td>203.8000 </td><td>175.66667</td></tr>\n",
       "\t<tr><td>bad      </td><td> 3       </td><td> 15.2    </td><td> 2       </td><td>733      </td><td>366      </td><td>817      </td><td>368.8068 </td><td>187.0824 </td><td>139.80986</td></tr>\n",
       "\t<tr><td>good     </td><td> 0       </td><td> 30.5    </td><td> 4       </td><td>732      </td><td>975      </td><td>900      </td><td>363.9819 </td><td>183.8452 </td><td> 95.54655</td></tr>\n",
       "\t<tr><td>neutral  </td><td>92       </td><td>165.0    </td><td>16       </td><td>672      </td><td>876      </td><td>855      </td><td>396.7917 </td><td>237.4118 </td><td>198.11765</td></tr>\n",
       "</tbody>\n",
       "</table>\n"
      ],
      "text/latex": [
       "\\begin{tabular}{r|llllllllll}\n",
       " Alignment & X1\\_min & Height\\_min & Weight\\_min & X1\\_max & Height\\_max & Weight\\_max & X1\\_mean & Height\\_mean & Weight\\_mean\\\\\n",
       "\\hline\n",
       "\t -         & 33        & 183.0     & 81        & 692       & 229       & 358       & 372.8571  & 203.8000  & 175.66667\\\\\n",
       "\t bad       &  3        &  15.2     &  2        & 733       & 366       & 817       & 368.8068  & 187.0824  & 139.80986\\\\\n",
       "\t good      &  0        &  30.5     &  4        & 732       & 975       & 900       & 363.9819  & 183.8452  &  95.54655\\\\\n",
       "\t neutral   & 92        & 165.0     & 16        & 672       & 876       & 855       & 396.7917  & 237.4118  & 198.11765\\\\\n",
       "\\end{tabular}\n"
      ],
      "text/markdown": [
       "\n",
       "Alignment | X1_min | Height_min | Weight_min | X1_max | Height_max | Weight_max | X1_mean | Height_mean | Weight_mean | \n",
       "|---|---|---|---|\n",
       "| -         | 33        | 183.0     | 81        | 692       | 229       | 358       | 372.8571  | 203.8000  | 175.66667 | \n",
       "| bad       |  3        |  15.2     |  2        | 733       | 366       | 817       | 368.8068  | 187.0824  | 139.80986 | \n",
       "| good      |  0        |  30.5     |  4        | 732       | 975       | 900       | 363.9819  | 183.8452  |  95.54655 | \n",
       "| neutral   | 92        | 165.0     | 16        | 672       | 876       | 855       | 396.7917  | 237.4118  | 198.11765 | \n",
       "\n",
       "\n"
      ],
      "text/plain": [
       "  Alignment X1_min Height_min Weight_min X1_max Height_max Weight_max X1_mean \n",
       "1 -         33     183.0      81         692    229        358        372.8571\n",
       "2 bad        3      15.2       2         733    366        817        368.8068\n",
       "3 good       0      30.5       4         732    975        900        363.9819\n",
       "4 neutral   92     165.0      16         672    876        855        396.7917\n",
       "  Height_mean Weight_mean\n",
       "1 203.8000    175.66667  \n",
       "2 187.0824    139.80986  \n",
       "3 183.8452     95.54655  \n",
       "4 237.4118    198.11765  "
      ]
     },
     "metadata": {},
     "output_type": "display_data"
    }
   ],
   "source": [
    "heroes %>%\n",
    "  group_by(Alignment) %>%\n",
    "  summarise_if(is.numeric, c(\"min\", \"max\", \"mean\"), na.rm = TRUE)"
   ]
  },
  {
   "cell_type": "markdown",
   "metadata": {},
   "source": [
    "> The count() function can very quickly build a frequency table for how often eahc unique value in a column appears. Can you use this function to workout how many heroes have each power based on the `powers` dataset?"
   ]
  },
  {
   "cell_type": "code",
   "execution_count": null,
   "metadata": {},
   "outputs": [],
   "source": []
  }
 ],
 "metadata": {
  "kernelspec": {
   "display_name": "R",
   "language": "R",
   "name": "r"
  },
  "language_info": {
   "codemirror_mode": "r",
   "file_extension": ".r",
   "mimetype": "text/x-r-source",
   "name": "R",
   "pygments_lexer": "r",
   "version": "3.4.1"
  }
 },
 "nbformat": 4,
 "nbformat_minor": 2
}

{
 "cells": [
  {
   "cell_type": "markdown",
   "metadata": {
    "collapsed": true
   },
   "source": [
    "# Interactive visualisations\n",
    "We need to be able to make graphics that work for the web and R can be really great for this. We'll see a few different packages here but there are so many options out there."
   ]
  },
  {
   "cell_type": "code",
   "execution_count": 1,
   "metadata": {},
   "outputs": [
    {
     "name": "stderr",
     "output_type": "stream",
     "text": [
      "── Attaching packages ─────────────────────────────────────── tidyverse 1.2.1 ──\n",
      "✔ ggplot2 2.2.1     ✔ purrr   0.2.4\n",
      "✔ tibble  1.4.1     ✔ dplyr   0.7.4\n",
      "✔ tidyr   0.7.2     ✔ stringr 1.3.1\n",
      "✔ readr   1.1.1     ✔ forcats 0.2.0\n",
      "── Conflicts ────────────────────────────────────────── tidyverse_conflicts() ──\n",
      "✖ dplyr::filter() masks stats::filter()\n",
      "✖ dplyr::lag()    masks stats::lag()\n",
      "Parsed with column specification:\n",
      "cols(\n",
      "  X1 = col_integer(),\n",
      "  name = col_character(),\n",
      "  Gender = col_character(),\n",
      "  `Eye color` = col_character(),\n",
      "  Race = col_character(),\n",
      "  `Hair color` = col_character(),\n",
      "  Height = col_double(),\n",
      "  Publisher = col_character(),\n",
      "  `Skin color` = col_character(),\n",
      "  Alignment = col_character(),\n",
      "  Weight = col_integer()\n",
      ")\n",
      "Parsed with column specification:\n",
      "cols(\n",
      "  hero_names = col_character(),\n",
      "  power = col_character(),\n",
      "  present = col_logical()\n",
      ")\n"
     ]
    }
   ],
   "source": [
    "# install.packages(c(\"tidyverse\",\"plotly\", \"leaflet\"))\n",
    "library(tidyverse)\n",
    "heroes = read_csv(\"clean/heroes.csv\")\n",
    "powers = read_csv(\"clean/powers_long.csv\")"
   ]
  },
  {
   "cell_type": "markdown",
   "metadata": {},
   "source": [
    "## Interactive plots from static charts\n",
    "We can use a plot we know how to make in the `ggplot2` syntax and make it interactive, really easily using the `ggplotly()` function from `plotly`."
   ]
  },
  {
   "cell_type": "code",
   "execution_count": 2,
   "metadata": {},
   "outputs": [
    {
     "ename": "ERROR",
     "evalue": "Error in library(plotly): there is no package called ‘plotly’\n",
     "output_type": "error",
     "traceback": [
      "Error in library(plotly): there is no package called ‘plotly’\nTraceback:\n",
      "1. library(plotly)",
      "2. stop(txt, domain = NA)"
     ]
    }
   ],
   "source": [
    "library(plotly)\n",
    "ggplot(heroes, aes( x = Height, y = Weight, colour = Alignment )) +\n",
    "  geom_point(alpha=.5) %>%\n",
    "  ggplotly()"
   ]
  },
  {
   "cell_type": "code",
   "execution_count": null,
   "metadata": {},
   "outputs": [],
   "source": []
  }
 ],
 "metadata": {
  "kernelspec": {
   "display_name": "R",
   "language": "R",
   "name": "r"
  },
  "language_info": {
   "codemirror_mode": "r",
   "file_extension": ".r",
   "mimetype": "text/x-r-source",
   "name": "R",
   "pygments_lexer": "r",
   "version": "3.4.1"
  }
 },
 "nbformat": 4,
 "nbformat_minor": 2
}

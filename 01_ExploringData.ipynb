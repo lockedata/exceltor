{
 "cells": [
  {
   "cell_type": "markdown",
   "metadata": {},
   "source": [
    "# Exploring Data in R\n",
    "Let's load up some of our data and explore it!\n",
    "\n",
    "I'm going to use some simple read statements here so we can see how we can clean things up later."
   ]
  },
  {
   "cell_type": "code",
   "execution_count": 1,
   "metadata": {},
   "outputs": [
    {
     "name": "stderr",
     "output_type": "stream",
     "text": [
      "Installing package into ‘/home/nbuser/R’\n",
      "(as ‘lib’ is unspecified)\n",
      "── Attaching packages ─────────────────────────────────────── tidyverse 1.2.1 ──\n",
      "✔ ggplot2 2.2.1     ✔ purrr   0.2.4\n",
      "✔ tibble  1.4.1     ✔ dplyr   0.7.4\n",
      "✔ tidyr   0.7.2     ✔ stringr 1.3.1\n",
      "✔ readr   1.1.1     ✔ forcats 0.2.0\n",
      "── Conflicts ────────────────────────────────────────── tidyverse_conflicts() ──\n",
      "✖ dplyr::filter() masks stats::filter()\n",
      "✖ dplyr::lag()    masks stats::lag()\n",
      "Warning message:\n",
      "“Missing column names filled in: 'X1' [1]”Parsed with column specification:\n",
      "cols(\n",
      "  X1 = col_integer(),\n",
      "  name = col_character(),\n",
      "  Gender = col_character(),\n",
      "  `Eye color` = col_character(),\n",
      "  Race = col_character(),\n",
      "  `Hair color` = col_character(),\n",
      "  Height = col_double(),\n",
      "  Publisher = col_character(),\n",
      "  `Skin color` = col_character(),\n",
      "  Alignment = col_character(),\n",
      "  Weight = col_double()\n",
      ")\n",
      "Parsed with column specification:\n",
      "cols(\n",
      "  .default = col_character()\n",
      ")\n",
      "See spec(...) for full column specifications.\n"
     ]
    }
   ],
   "source": [
    "install.packages(\"tidyverse\")\n",
    "library(tidyverse)\n",
    "heroes = read_csv(\"data/heroes_information.csv\")\n",
    "powers = read_csv(\"data/super_hero_powers.csv\")"
   ]
  },
  {
   "cell_type": "markdown",
   "metadata": {},
   "source": [
    "## Out of the box tools"
   ]
  },
  {
   "cell_type": "markdown",
   "metadata": {},
   "source": [
    "Built-in to R are some functions that can help us understand our data. \n",
    "\n",
    "- `head()` gives us a slice of records from the top of the dataset\n",
    "- `summary()` gives us an overview of the values in the dataset\n",
    "- `str()` tells us about the data types"
   ]
  },
  {
   "cell_type": "code",
   "execution_count": 2,
   "metadata": {},
   "outputs": [
    {
     "data": {
      "text/html": [
       "<table>\n",
       "<thead><tr><th scope=col>X1</th><th scope=col>name</th><th scope=col>Gender</th><th scope=col>Eye color</th><th scope=col>Race</th><th scope=col>Hair color</th><th scope=col>Height</th><th scope=col>Publisher</th><th scope=col>Skin color</th><th scope=col>Alignment</th><th scope=col>Weight</th></tr></thead>\n",
       "<tbody>\n",
       "\t<tr><td>0                </td><td>A-Bomb           </td><td>Male             </td><td>yellow           </td><td>Human            </td><td>No Hair          </td><td>203              </td><td>Marvel Comics    </td><td>-                </td><td>good             </td><td>441              </td></tr>\n",
       "\t<tr><td>1                </td><td>Abe Sapien       </td><td>Male             </td><td>blue             </td><td>Icthyo Sapien    </td><td>No Hair          </td><td>191              </td><td>Dark Horse Comics</td><td>blue             </td><td>good             </td><td> 65              </td></tr>\n",
       "\t<tr><td>2                </td><td>Abin Sur         </td><td>Male             </td><td>blue             </td><td>Ungaran          </td><td>No Hair          </td><td>185              </td><td>DC Comics        </td><td>red              </td><td>good             </td><td> 90              </td></tr>\n",
       "\t<tr><td>3                </td><td>Abomination      </td><td>Male             </td><td>green            </td><td>Human / Radiation</td><td>No Hair          </td><td>203              </td><td>Marvel Comics    </td><td>-                </td><td>bad              </td><td>441              </td></tr>\n",
       "\t<tr><td>4                </td><td>Abraxas          </td><td>Male             </td><td>blue             </td><td>Cosmic Entity    </td><td>Black            </td><td>-99              </td><td>Marvel Comics    </td><td>-                </td><td>bad              </td><td>-99              </td></tr>\n",
       "\t<tr><td>5                </td><td>Absorbing Man    </td><td>Male             </td><td>blue             </td><td>Human            </td><td>No Hair          </td><td>193              </td><td>Marvel Comics    </td><td>-                </td><td>bad              </td><td>122              </td></tr>\n",
       "</tbody>\n",
       "</table>\n"
      ],
      "text/latex": [
       "\\begin{tabular}{r|lllllllllll}\n",
       " X1 & name & Gender & Eye color & Race & Hair color & Height & Publisher & Skin color & Alignment & Weight\\\\\n",
       "\\hline\n",
       "\t 0                 & A-Bomb            & Male              & yellow            & Human             & No Hair           & 203               & Marvel Comics     & -                 & good              & 441              \\\\\n",
       "\t 1                 & Abe Sapien        & Male              & blue              & Icthyo Sapien     & No Hair           & 191               & Dark Horse Comics & blue              & good              &  65              \\\\\n",
       "\t 2                 & Abin Sur          & Male              & blue              & Ungaran           & No Hair           & 185               & DC Comics         & red               & good              &  90              \\\\\n",
       "\t 3                 & Abomination       & Male              & green             & Human / Radiation & No Hair           & 203               & Marvel Comics     & -                 & bad               & 441              \\\\\n",
       "\t 4                 & Abraxas           & Male              & blue              & Cosmic Entity     & Black             & -99               & Marvel Comics     & -                 & bad               & -99              \\\\\n",
       "\t 5                 & Absorbing Man     & Male              & blue              & Human             & No Hair           & 193               & Marvel Comics     & -                 & bad               & 122              \\\\\n",
       "\\end{tabular}\n"
      ],
      "text/markdown": [
       "\n",
       "X1 | name | Gender | Eye color | Race | Hair color | Height | Publisher | Skin color | Alignment | Weight | \n",
       "|---|---|---|---|---|---|\n",
       "| 0                 | A-Bomb            | Male              | yellow            | Human             | No Hair           | 203               | Marvel Comics     | -                 | good              | 441               | \n",
       "| 1                 | Abe Sapien        | Male              | blue              | Icthyo Sapien     | No Hair           | 191               | Dark Horse Comics | blue              | good              |  65               | \n",
       "| 2                 | Abin Sur          | Male              | blue              | Ungaran           | No Hair           | 185               | DC Comics         | red               | good              |  90               | \n",
       "| 3                 | Abomination       | Male              | green             | Human / Radiation | No Hair           | 203               | Marvel Comics     | -                 | bad               | 441               | \n",
       "| 4                 | Abraxas           | Male              | blue              | Cosmic Entity     | Black             | -99               | Marvel Comics     | -                 | bad               | -99               | \n",
       "| 5                 | Absorbing Man     | Male              | blue              | Human             | No Hair           | 193               | Marvel Comics     | -                 | bad               | 122               | \n",
       "\n",
       "\n"
      ],
      "text/plain": [
       "  X1 name          Gender Eye color Race              Hair color Height\n",
       "1 0  A-Bomb        Male   yellow    Human             No Hair    203   \n",
       "2 1  Abe Sapien    Male   blue      Icthyo Sapien     No Hair    191   \n",
       "3 2  Abin Sur      Male   blue      Ungaran           No Hair    185   \n",
       "4 3  Abomination   Male   green     Human / Radiation No Hair    203   \n",
       "5 4  Abraxas       Male   blue      Cosmic Entity     Black      -99   \n",
       "6 5  Absorbing Man Male   blue      Human             No Hair    193   \n",
       "  Publisher         Skin color Alignment Weight\n",
       "1 Marvel Comics     -          good      441   \n",
       "2 Dark Horse Comics blue       good       65   \n",
       "3 DC Comics         red        good       90   \n",
       "4 Marvel Comics     -          bad       441   \n",
       "5 Marvel Comics     -          bad       -99   \n",
       "6 Marvel Comics     -          bad       122   "
      ]
     },
     "metadata": {},
     "output_type": "display_data"
    }
   ],
   "source": [
    "head(heroes)"
   ]
  },
  {
   "cell_type": "code",
   "execution_count": 3,
   "metadata": {},
   "outputs": [
    {
     "data": {
      "text/plain": [
       "       X1            name              Gender           Eye color        \n",
       " Min.   :  0.0   Length:734         Length:734         Length:734        \n",
       " 1st Qu.:183.2   Class :character   Class :character   Class :character  \n",
       " Median :366.5   Mode  :character   Mode  :character   Mode  :character  \n",
       " Mean   :366.5                                                           \n",
       " 3rd Qu.:549.8                                                           \n",
       " Max.   :733.0                                                           \n",
       "                                                                         \n",
       "     Race            Hair color            Height       Publisher        \n",
       " Length:734         Length:734         Min.   :-99.0   Length:734        \n",
       " Class :character   Class :character   1st Qu.:-99.0   Class :character  \n",
       " Mode  :character   Mode  :character   Median :175.0   Mode  :character  \n",
       "                                       Mean   :102.3                     \n",
       "                                       3rd Qu.:185.0                     \n",
       "                                       Max.   :975.0                     \n",
       "                                                                         \n",
       "  Skin color         Alignment             Weight      \n",
       " Length:734         Length:734         Min.   :-99.00  \n",
       " Class :character   Class :character   1st Qu.:-99.00  \n",
       " Mode  :character   Mode  :character   Median : 62.00  \n",
       "                                       Mean   : 43.86  \n",
       "                                       3rd Qu.: 90.00  \n",
       "                                       Max.   :900.00  \n",
       "                                       NA's   :2       "
      ]
     },
     "metadata": {},
     "output_type": "display_data"
    }
   ],
   "source": [
    "summary(heroes)"
   ]
  },
  {
   "cell_type": "code",
   "execution_count": 4,
   "metadata": {},
   "outputs": [
    {
     "name": "stdout",
     "output_type": "stream",
     "text": [
      "Classes ‘tbl_df’, ‘tbl’ and 'data.frame':\t734 obs. of  11 variables:\n",
      " $ X1        : int  0 1 2 3 4 5 6 7 8 9 ...\n",
      " $ name      : chr  \"A-Bomb\" \"Abe Sapien\" \"Abin Sur\" \"Abomination\" ...\n",
      " $ Gender    : chr  \"Male\" \"Male\" \"Male\" \"Male\" ...\n",
      " $ Eye color : chr  \"yellow\" \"blue\" \"blue\" \"green\" ...\n",
      " $ Race      : chr  \"Human\" \"Icthyo Sapien\" \"Ungaran\" \"Human / Radiation\" ...\n",
      " $ Hair color: chr  \"No Hair\" \"No Hair\" \"No Hair\" \"No Hair\" ...\n",
      " $ Height    : num  203 191 185 203 -99 193 -99 185 173 178 ...\n",
      " $ Publisher : chr  \"Marvel Comics\" \"Dark Horse Comics\" \"DC Comics\" \"Marvel Comics\" ...\n",
      " $ Skin color: chr  \"-\" \"blue\" \"red\" \"-\" ...\n",
      " $ Alignment : chr  \"good\" \"good\" \"good\" \"bad\" ...\n",
      " $ Weight    : num  441 65 90 441 -99 122 -99 88 61 81 ...\n",
      " - attr(*, \"spec\")=List of 2\n",
      "  ..$ cols   :List of 11\n",
      "  .. ..$ X1        : list()\n",
      "  .. .. ..- attr(*, \"class\")= chr  \"collector_integer\" \"collector\"\n",
      "  .. ..$ name      : list()\n",
      "  .. .. ..- attr(*, \"class\")= chr  \"collector_character\" \"collector\"\n",
      "  .. ..$ Gender    : list()\n",
      "  .. .. ..- attr(*, \"class\")= chr  \"collector_character\" \"collector\"\n",
      "  .. ..$ Eye color : list()\n",
      "  .. .. ..- attr(*, \"class\")= chr  \"collector_character\" \"collector\"\n",
      "  .. ..$ Race      : list()\n",
      "  .. .. ..- attr(*, \"class\")= chr  \"collector_character\" \"collector\"\n",
      "  .. ..$ Hair color: list()\n",
      "  .. .. ..- attr(*, \"class\")= chr  \"collector_character\" \"collector\"\n",
      "  .. ..$ Height    : list()\n",
      "  .. .. ..- attr(*, \"class\")= chr  \"collector_double\" \"collector\"\n",
      "  .. ..$ Publisher : list()\n",
      "  .. .. ..- attr(*, \"class\")= chr  \"collector_character\" \"collector\"\n",
      "  .. ..$ Skin color: list()\n",
      "  .. .. ..- attr(*, \"class\")= chr  \"collector_character\" \"collector\"\n",
      "  .. ..$ Alignment : list()\n",
      "  .. .. ..- attr(*, \"class\")= chr  \"collector_character\" \"collector\"\n",
      "  .. ..$ Weight    : list()\n",
      "  .. .. ..- attr(*, \"class\")= chr  \"collector_double\" \"collector\"\n",
      "  ..$ default: list()\n",
      "  .. ..- attr(*, \"class\")= chr  \"collector_guess\" \"collector\"\n",
      "  ..- attr(*, \"class\")= chr \"col_spec\"\n"
     ]
    }
   ],
   "source": [
    "str(heroes)"
   ]
  },
  {
   "cell_type": "markdown",
   "metadata": {},
   "source": [
    "## Additional tools\n",
    "These are most certainly useful but there's some extra tools we can use.\n",
    "\n",
    "- `skimr` produces a more useful version of `summary()`\n",
    "- `DataExplorer` gives us a data profile report in a single line of code!\n",
    "\n",
    "When in RStudio there's also the `View()` function for getting an interactive grid view."
   ]
  },
  {
   "cell_type": "code",
   "execution_count": 5,
   "metadata": {},
   "outputs": [
    {
     "name": "stderr",
     "output_type": "stream",
     "text": [
      "Installing packages into ‘/home/nbuser/R’\n",
      "(as ‘lib’ is unspecified)\n"
     ]
    }
   ],
   "source": [
    "install.packages(c(\"skimr\", \"DataExplorer\"))"
   ]
  },
  {
   "cell_type": "code",
   "execution_count": 8,
   "metadata": {},
   "outputs": [
    {
     "name": "stdout",
     "output_type": "stream",
     "text": [
      "Skim summary statistics\n",
      " n obs: 734 \n",
      " n variables: 11 \n",
      "\n",
      "── Variable type:character ─────────────────────────────────────────────────────\n",
      "   variable missing complete   n min max empty n_unique\n",
      "  Alignment       0      734 734   1   7     0        4\n",
      "  Eye color       0      734 734   1  23     0       23\n",
      "     Gender       0      734 734   1   6     0        3\n",
      " Hair color       0      734 734   1  16     0       30\n",
      "       name       0      734 734   1  25     0      715\n",
      "  Publisher      15      719 734   4  17     0       24\n",
      "       Race       0      734 734   1  18     0       62\n",
      " Skin color       0      734 734   1  14     0       17\n",
      "\n",
      "── Variable type:integer ───────────────────────────────────────────────────────\n",
      " variable missing complete   n  mean     sd p0    p25   p50    p75 p100\n",
      "       X1       0      734 734 366.5 212.03  0 183.25 366.5 549.75  733\n",
      "     hist\n",
      " ▇▇▇▇▇▇▇▇\n",
      "\n",
      "── Variable type:numeric ───────────────────────────────────────────────────────\n",
      " variable missing complete   n   mean     sd  p0 p25 p50 p75 p100     hist\n",
      "   Height       0      734 734 102.25 139.62 -99 -99 175 185  975 ▅▂▇▁▁▁▁▁\n",
      "   Weight       2      732 734  43.86 130.82 -99 -99  62  90  900 ▅▇▁▁▁▁▁▁\n"
     ]
    }
   ],
   "source": [
    "library(skimr)\n",
    "print(skim(heroes)) # Need print here because otherwise the notebook wants to use the nice table that sits behind the scenes"
   ]
  },
  {
   "cell_type": "code",
   "execution_count": 7,
   "metadata": {},
   "outputs": [
    {
     "name": "stderr",
     "output_type": "stream",
     "text": [
      "\n",
      "\n",
      "processing file: report.rmd\n"
     ]
    },
    {
     "name": "stdout",
     "output_type": "stream",
     "text": [
      "  |..                                                               |   3%\n",
      "  ordinary text without R code\n",
      "\n",
      "  |....                                                             |   6%\n",
      "label: global_options (with options) \n",
      "List of 1\n",
      " $ include: logi FALSE\n",
      "\n",
      "  |......                                                           |   9%\n",
      "  ordinary text without R code\n",
      "\n",
      "  |........                                                         |  12%\n",
      "label: basic_statistics\n",
      "  |..........                                                       |  15%\n",
      "  ordinary text without R code\n",
      "\n",
      "  |...........                                                      |  18%\n",
      "label: data_structure\n",
      "  |.............                                                    |  21%\n",
      "  ordinary text without R code\n",
      "\n",
      "  |...............                                                  |  24%\n",
      "label: missing_profile\n",
      "  |.................                                                |  26%\n",
      "  ordinary text without R code\n",
      "\n",
      "  |...................                                              |  29%\n",
      "label: univariate_distribution_header\n",
      "  |.....................                                            |  32%\n",
      "  ordinary text without R code\n",
      "\n",
      "  |.......................                                          |  35%\n",
      "label: plot_histogram\n",
      "  |.........................                                        |  38%\n",
      "  ordinary text without R code\n",
      "\n",
      "  |...........................                                      |  41%\n",
      "label: plot_density\n",
      "  |.............................                                    |  44%\n",
      "  ordinary text without R code\n",
      "\n",
      "  |...............................                                  |  47%\n",
      "label: plot_frequency_bar\n",
      "  |................................                                 |  50%\n",
      "  ordinary text without R code\n",
      "\n",
      "  |..................................                               |  53%\n",
      "label: plot_response_bar\n",
      "  |....................................                             |  56%\n",
      "  ordinary text without R code\n",
      "\n",
      "  |......................................                           |  59%\n",
      "label: plot_with_bar\n",
      "  |........................................                         |  62%\n",
      "  ordinary text without R code\n",
      "\n",
      "  |..........................................                       |  65%\n",
      "label: correlation_analysis\n",
      "  |............................................                     |  68%\n",
      "  ordinary text without R code\n",
      "\n",
      "  |..............................................                   |  71%\n",
      "label: principle_component_analysis\n",
      "  |................................................                 |  74%\n",
      "  ordinary text without R code\n",
      "\n",
      "  |..................................................               |  76%\n",
      "label: bivariate_distribution_header\n",
      "  |....................................................             |  79%\n",
      "  ordinary text without R code\n",
      "\n",
      "  |......................................................           |  82%\n",
      "label: plot_response_boxplot\n",
      "  |.......................................................          |  85%\n",
      "  ordinary text without R code\n",
      "\n",
      "  |.........................................................        |  88%\n",
      "label: plot_by_boxplot\n",
      "  |...........................................................      |  91%\n",
      "  ordinary text without R code\n",
      "\n",
      "  |.............................................................    |  94%\n",
      "label: plot_response_scatterplot\n",
      "  |...............................................................  |  97%\n",
      "  ordinary text without R code\n",
      "\n",
      "  |.................................................................| 100%\n",
      "label: plot_by_scatterplot\n",
      "\n"
     ]
    },
    {
     "name": "stderr",
     "output_type": "stream",
     "text": [
      "output file: /home/nbuser/library/outputs/report.knit.md\n",
      "\n"
     ]
    },
    {
     "name": "stdout",
     "output_type": "stream",
     "text": [
      "/usr/bin/pandoc +RTS -K512m -RTS /home/nbuser/library/outputs/report.utf8.md --to html4 --from markdown+autolink_bare_uris+ascii_identifiers+tex_math_single_backslash --output /home/nbuser/library/outputs/heroes.html --smart --email-obfuscation none --self-contained --standalone --section-divs --table-of-contents --toc-depth 6 --template /home/nbuser/R/rmarkdown/rmd/h/default.html --no-highlight --variable highlightjs=1 --variable 'theme:cerulean' --include-in-header /tmp/Rtmp45h9lV/rmarkdown-str5013890273f.html --mathjax --variable 'mathjax-url:https://mathjax.rstudio.com/latest/MathJax.js?config=TeX-AMS-MML_HTMLorMML' \n"
     ]
    },
    {
     "name": "stderr",
     "output_type": "stream",
     "text": [
      "\n",
      "Output created: outputs/heroes.html\n",
      "\n",
      "\n",
      "Report is generated at \"outputs/heroes.html\".\n"
     ]
    }
   ],
   "source": [
    "library(DataExplorer)\n",
    "create_report(heroes, output_file=\"heroes.html\", output_dir=\"outputs\")"
   ]
  },
  {
   "cell_type": "markdown",
   "metadata": {},
   "source": [
    "> Go download the output and let's see what's in it. Can you write a report creation step for the superpowers?"
   ]
  }
 ],
 "metadata": {
  "kernelspec": {
   "display_name": "R",
   "language": "R",
   "name": "r"
  },
  "language_info": {
   "codemirror_mode": "r",
   "file_extension": ".r",
   "mimetype": "text/x-r-source",
   "name": "R",
   "pygments_lexer": "r",
   "version": "3.4.1"
  }
 },
 "nbformat": 4,
 "nbformat_minor": 2
}
